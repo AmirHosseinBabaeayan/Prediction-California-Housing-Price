{
  "nbformat": 4,
  "nbformat_minor": 0,
  "metadata": {
    "colab": {
      "provenance": []
    },
    "kernelspec": {
      "name": "python3",
      "display_name": "Python 3"
    },
    "language_info": {
      "name": "python"
    }
  },
  "cells": [
    {
      "cell_type": "code",
      "execution_count": 1,
      "metadata": {
        "colab": {
          "base_uri": "https://localhost:8080/"
        },
        "id": "NpD-Iv6Tr1-v",
        "outputId": "9f0270af-39b9-4ec4-fc20-98fdd7ebe7c9"
      },
      "outputs": [
        {
          "output_type": "stream",
          "name": "stdout",
          "text": [
            "Requirement already satisfied: pyspark in /usr/local/lib/python3.10/dist-packages (3.5.1)\n",
            "Requirement already satisfied: py4j==0.10.9.7 in /usr/local/lib/python3.10/dist-packages (from pyspark) (0.10.9.7)\n"
          ]
        }
      ],
      "source": [
        "# install pyspark in google colab\n",
        "!pip install pyspark"
      ]
    },
    {
      "cell_type": "code",
      "source": [
        "# import sparkSession and build a new app\n",
        "from pyspark.sql import SparkSession\n",
        "spark = SparkSession.builder.appName(\"californiaHousing\").getOrCreate()"
      ],
      "metadata": {
        "id": "5g9pP0RssJvL"
      },
      "execution_count": 2,
      "outputs": []
    },
    {
      "cell_type": "code",
      "source": [
        "# load data from google colab sample data\n",
        "df = spark.read.csv('/content/sample_data/california_housing_train.csv', header = True, inferSchema=True)"
      ],
      "metadata": {
        "id": "sbpjqdyIssqt"
      },
      "execution_count": 3,
      "outputs": []
    },
    {
      "cell_type": "code",
      "source": [
        "# show header and 5 top rows of data frame\n",
        "df.show(5)"
      ],
      "metadata": {
        "colab": {
          "base_uri": "https://localhost:8080/"
        },
        "id": "pTXC2Y7rs_CC",
        "outputId": "489f20ab-7fe4-4c28-dcce-baa8ce4d7a7a"
      },
      "execution_count": 4,
      "outputs": [
        {
          "output_type": "stream",
          "name": "stdout",
          "text": [
            "+---------+--------+------------------+-----------+--------------+----------+----------+-------------+------------------+\n",
            "|longitude|latitude|housing_median_age|total_rooms|total_bedrooms|population|households|median_income|median_house_value|\n",
            "+---------+--------+------------------+-----------+--------------+----------+----------+-------------+------------------+\n",
            "|  -114.31|   34.19|              15.0|     5612.0|        1283.0|    1015.0|     472.0|       1.4936|           66900.0|\n",
            "|  -114.47|    34.4|              19.0|     7650.0|        1901.0|    1129.0|     463.0|         1.82|           80100.0|\n",
            "|  -114.56|   33.69|              17.0|      720.0|         174.0|     333.0|     117.0|       1.6509|           85700.0|\n",
            "|  -114.57|   33.64|              14.0|     1501.0|         337.0|     515.0|     226.0|       3.1917|           73400.0|\n",
            "|  -114.57|   33.57|              20.0|     1454.0|         326.0|     624.0|     262.0|        1.925|           65500.0|\n",
            "+---------+--------+------------------+-----------+--------------+----------+----------+-------------+------------------+\n",
            "only showing top 5 rows\n",
            "\n"
          ]
        }
      ]
    },
    {
      "cell_type": "code",
      "source": [
        "# show description of df\n",
        "df.describe()"
      ],
      "metadata": {
        "colab": {
          "base_uri": "https://localhost:8080/"
        },
        "id": "vuUx5NFVtEn-",
        "outputId": "e3eeab90-02a6-410b-cf84-2d7bd86f632d"
      },
      "execution_count": 5,
      "outputs": [
        {
          "output_type": "execute_result",
          "data": {
            "text/plain": [
              "DataFrame[summary: string, longitude: string, latitude: string, housing_median_age: string, total_rooms: string, total_bedrooms: string, population: string, households: string, median_income: string, median_house_value: string]"
            ]
          },
          "metadata": {},
          "execution_count": 5
        }
      ]
    },
    {
      "cell_type": "code",
      "source": [
        "# cast data from rows to floating poin numbers\n",
        "from pyspark.sql.types import FloatType\n",
        "cols = df.columns\n",
        "for col in cols:\n",
        "  df = df.withColumn(col, df[col].cast('float'))"
      ],
      "metadata": {
        "id": "wTWlC_N_uAxx"
      },
      "execution_count": 7,
      "outputs": []
    },
    {
      "cell_type": "code",
      "source": [
        "# use groupby and orderby for funny result\n",
        "from pyspark.sql.functions import desc\n",
        "df.groupBy('housing_median_age').mean('median_house_value').orderBy(desc('housing_median_age')).show(10)"
      ],
      "metadata": {
        "colab": {
          "base_uri": "https://localhost:8080/"
        },
        "id": "qNj2SOBXvWxI",
        "outputId": "dc734cc6-217d-423e-e58c-16753add22b3"
      },
      "execution_count": 9,
      "outputs": [
        {
          "output_type": "stream",
          "name": "stdout",
          "text": [
            "+------------------+-----------------------+\n",
            "|housing_median_age|avg(median_house_value)|\n",
            "+------------------+-----------------------+\n",
            "|              52.0|      277368.2005703422|\n",
            "|              51.0|             244850.125|\n",
            "|              50.0|     222513.48214285713|\n",
            "|              49.0|      220667.6126126126|\n",
            "|              48.0|     224665.25185185185|\n",
            "|              47.0|     190064.61142857143|\n",
            "|              46.0|     198036.26020408163|\n",
            "|              45.0|     223464.74468085106|\n",
            "|              44.0|     214909.50675675675|\n",
            "|              43.0|      194365.7797202797|\n",
            "+------------------+-----------------------+\n",
            "only showing top 10 rows\n",
            "\n"
          ]
        }
      ]
    },
    {
      "cell_type": "code",
      "source": [
        "# feature columns\n",
        "XCols = df.columns\n",
        "del(XCols[-1])\n",
        "print(XCols)"
      ],
      "metadata": {
        "colab": {
          "base_uri": "https://localhost:8080/"
        },
        "id": "M93mErPixD8V",
        "outputId": "f6e4f2a0-48f3-4843-d8b4-4f933b782566"
      },
      "execution_count": 10,
      "outputs": [
        {
          "output_type": "stream",
          "name": "stdout",
          "text": [
            "['longitude', 'latitude', 'housing_median_age', 'total_rooms', 'total_bedrooms', 'population', 'households', 'median_income']\n"
          ]
        }
      ]
    },
    {
      "cell_type": "code",
      "source": [
        "# target column\n",
        "targetCol = df.columns[-1]\n",
        "print(targetCol)"
      ],
      "metadata": {
        "colab": {
          "base_uri": "https://localhost:8080/"
        },
        "id": "VJ13CxPWxQWU",
        "outputId": "da31d981-d642-40e3-e193-d5bb6e5af5cb"
      },
      "execution_count": 12,
      "outputs": [
        {
          "output_type": "stream",
          "name": "stdout",
          "text": [
            "median_house_value\n"
          ]
        }
      ]
    },
    {
      "cell_type": "code",
      "source": [
        "# df to vector (in pyspark must be used vectorized features)\n",
        "from pyspark.ml.feature import VectorAssembler\n",
        "va = VectorAssembler(inputCols=XCols, outputCol='feature_vector')\n",
        "df = va.transform(df)"
      ],
      "metadata": {
        "id": "_HwXl92dv7QE"
      },
      "execution_count": 13,
      "outputs": []
    },
    {
      "cell_type": "code",
      "source": [
        "df.show(5)"
      ],
      "metadata": {
        "colab": {
          "base_uri": "https://localhost:8080/"
        },
        "id": "xn5coUgxyX0u",
        "outputId": "6dba5161-c981-4620-c27a-2079f6a6b9cd"
      },
      "execution_count": 14,
      "outputs": [
        {
          "output_type": "stream",
          "name": "stdout",
          "text": [
            "+---------+--------+------------------+-----------+--------------+----------+----------+-------------+------------------+--------------------+\n",
            "|longitude|latitude|housing_median_age|total_rooms|total_bedrooms|population|households|median_income|median_house_value|      feature_vector|\n",
            "+---------+--------+------------------+-----------+--------------+----------+----------+-------------+------------------+--------------------+\n",
            "|  -114.31|   34.19|              15.0|     5612.0|        1283.0|    1015.0|     472.0|       1.4936|           66900.0|[-114.30999755859...|\n",
            "|  -114.47|    34.4|              19.0|     7650.0|        1901.0|    1129.0|     463.0|         1.82|           80100.0|[-114.47000122070...|\n",
            "|  -114.56|   33.69|              17.0|      720.0|         174.0|     333.0|     117.0|       1.6509|           85700.0|[-114.55999755859...|\n",
            "|  -114.57|   33.64|              14.0|     1501.0|         337.0|     515.0|     226.0|       3.1917|           73400.0|[-114.56999969482...|\n",
            "|  -114.57|   33.57|              20.0|     1454.0|         326.0|     624.0|     262.0|        1.925|           65500.0|[-114.56999969482...|\n",
            "+---------+--------+------------------+-----------+--------------+----------+----------+-------------+------------------+--------------------+\n",
            "only showing top 5 rows\n",
            "\n"
          ]
        }
      ]
    },
    {
      "cell_type": "code",
      "source": [
        " # split train and test sets\n",
        " trainSet, testSet = df.randomSplit([0.8, 0.2], seed=42)"
      ],
      "metadata": {
        "id": "zQckH7faykqO"
      },
      "execution_count": 15,
      "outputs": []
    },
    {
      "cell_type": "code",
      "source": [
        "# import LR from pyspark and cnstruct model\n",
        "from pyspark.ml.regression import LinearRegression\n",
        "model = LinearRegression(featuresCol = 'feature_vector', labelCol = targetCol)"
      ],
      "metadata": {
        "id": "m7chvgIfysTk"
      },
      "execution_count": 16,
      "outputs": []
    },
    {
      "cell_type": "code",
      "source": [
        "# fit(train) model\n",
        "model = model.fit(trainSet)"
      ],
      "metadata": {
        "id": "0K9AnN_izCYI"
      },
      "execution_count": 17,
      "outputs": []
    },
    {
      "cell_type": "code",
      "source": [
        "# show coefficients of features\n",
        "model.coefficients"
      ],
      "metadata": {
        "colab": {
          "base_uri": "https://localhost:8080/"
        },
        "id": "KmnWK5MjzJ4M",
        "outputId": "98d61e1b-0596-4361-a863-749017516036"
      },
      "execution_count": 18,
      "outputs": [
        {
          "output_type": "execute_result",
          "data": {
            "text/plain": [
              "DenseVector([-42897.9984, -42705.3007, 1144.0811, -8.2234, 119.8248, -37.871, 40.8358, 40399.1481])"
            ]
          },
          "metadata": {},
          "execution_count": 18
        }
      ]
    },
    {
      "cell_type": "code",
      "source": [
        "# using evalute for predict and calculate model evaluators\n",
        "pred = model.evaluate(testSet)"
      ],
      "metadata": {
        "id": "TtdUuPkkzaxt"
      },
      "execution_count": 19,
      "outputs": []
    },
    {
      "cell_type": "code",
      "source": [
        "# show r2 score\n",
        "pred.r2"
      ],
      "metadata": {
        "colab": {
          "base_uri": "https://localhost:8080/"
        },
        "id": "C8kaiO1_zgQp",
        "outputId": "836fe406-f4b2-454c-caad-e954692f7456"
      },
      "execution_count": 20,
      "outputs": [
        {
          "output_type": "execute_result",
          "data": {
            "text/plain": [
              "0.6420168570584976"
            ]
          },
          "metadata": {},
          "execution_count": 20
        }
      ]
    },
    {
      "cell_type": "code",
      "source": [
        "# show MAE\n",
        "pred.meanAbsoluteError"
      ],
      "metadata": {
        "colab": {
          "base_uri": "https://localhost:8080/"
        },
        "id": "pOqll5nozhnj",
        "outputId": "b1039926-4755-4645-88e1-1837269d206c"
      },
      "execution_count": 21,
      "outputs": [
        {
          "output_type": "execute_result",
          "data": {
            "text/plain": [
              "50573.11348422675"
            ]
          },
          "metadata": {},
          "execution_count": 21
        }
      ]
    },
    {
      "cell_type": "code",
      "source": [
        "# import random forest regressor from pyspark and cnstruct model\n",
        "from pyspark.ml.regression import RandomForestRegressor\n",
        "model = RandomForestRegressor(featuresCol = 'feature_vector', labelCol = targetCol)"
      ],
      "metadata": {
        "id": "071GgblUzmvj"
      },
      "execution_count": 29,
      "outputs": []
    },
    {
      "cell_type": "code",
      "source": [
        "# fit(train) model\n",
        "model = model.fit(trainSet)"
      ],
      "metadata": {
        "id": "wVoFYQHg1kBx"
      },
      "execution_count": 30,
      "outputs": []
    },
    {
      "cell_type": "code",
      "source": [
        "# predict model with test set\n",
        "pred = model.transform(testSet)"
      ],
      "metadata": {
        "id": "Uk7iRago1l4h"
      },
      "execution_count": 31,
      "outputs": []
    },
    {
      "cell_type": "code",
      "source": [
        "pred.show(5)"
      ],
      "metadata": {
        "colab": {
          "base_uri": "https://localhost:8080/"
        },
        "id": "z8JhcZRR2GAS",
        "outputId": "55753b83-3c0a-45fc-da20-453cc0f14cdc"
      },
      "execution_count": 32,
      "outputs": [
        {
          "output_type": "stream",
          "name": "stdout",
          "text": [
            "+---------+--------+------------------+-----------+--------------+----------+----------+-------------+------------------+--------------------+------------------+\n",
            "|longitude|latitude|housing_median_age|total_rooms|total_bedrooms|population|households|median_income|median_house_value|      feature_vector|        prediction|\n",
            "+---------+--------+------------------+-----------+--------------+----------+----------+-------------+------------------+--------------------+------------------+\n",
            "|   -124.3|   41.84|              17.0|     2677.0|         531.0|    1244.0|     456.0|       3.0313|          103600.0|[-124.30000305175...|120656.61656236497|\n",
            "|  -124.23|   40.54|              52.0|     2694.0|         453.0|    1152.0|     435.0|       3.0806|          106700.0|[-124.23000335693...|136779.76158734277|\n",
            "|  -124.23|   41.75|              11.0|     3159.0|         616.0|    1343.0|     479.0|       2.4805|           73200.0|[-124.23000335693...|106764.91552746261|\n",
            "|  -124.19|   40.73|              21.0|     5694.0|        1056.0|    2907.0|     972.0|       3.5363|           90100.0|[-124.19000244140...| 159797.0491486229|\n",
            "|  -124.18|   40.78|              34.0|     1592.0|         364.0|     950.0|     317.0|       2.1607|           67000.0|[-124.18000030517...| 96651.57268716041|\n",
            "+---------+--------+------------------+-----------+--------------+----------+----------+-------------+------------------+--------------------+------------------+\n",
            "only showing top 5 rows\n",
            "\n"
          ]
        }
      ]
    },
    {
      "cell_type": "code",
      "source": [
        "# evalute with pyspark RegressionEvaluator\n",
        "from pyspark.ml.evaluation import RegressionEvaluator\n",
        "evaluator = RegressionEvaluator(labelCol=targetCol, predictionCol=\"prediction\", metricName=\"r2\")\n",
        "r2 = evaluator.evaluate(pred)\n",
        "print('R2-Score : {}'.format(r2))"
      ],
      "metadata": {
        "colab": {
          "base_uri": "https://localhost:8080/"
        },
        "id": "TSFnZmAX1sCV",
        "outputId": "defced31-c604-4c91-fecb-6ed043864b41"
      },
      "execution_count": 33,
      "outputs": [
        {
          "output_type": "stream",
          "name": "stdout",
          "text": [
            "R2-Score : 0.5980584401661394\n"
          ]
        }
      ]
    },
    {
      "cell_type": "code",
      "source": [],
      "metadata": {
        "id": "7aZ-7CEr2Lvn"
      },
      "execution_count": null,
      "outputs": []
    }
  ]
}